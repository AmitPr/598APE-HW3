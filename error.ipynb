{
 "cells": [
  {
   "cell_type": "code",
   "execution_count": 3,
   "id": "a6a708a4",
   "metadata": {},
   "outputs": [],
   "source": [
    "import math\n",
    "from matplotlib import pyplot as plt\n",
    "\n",
    "def read_coords(filename):\n",
    "    with open(filename, \"r\") as f:\n",
    "        lines = [line.strip() for line in f if line.strip()]\n",
    "    # if the last line is a recap, remove it:\n",
    "    if lines and lines[-1].startswith(\"Total\"):\n",
    "        lines = lines[:-1]\n",
    "    coords = []\n",
    "    for line in lines:\n",
    "        parts = line.split()\n",
    "        for i in range(0, len(parts), 2):\n",
    "            if len(coords) < int(i/2) + 1:\n",
    "                coords.append([])\n",
    "            try:\n",
    "                x = float(parts[i])\n",
    "                y = float(parts[i+1])\n",
    "                coords[int(i/2)].append((x, y))\n",
    "            except ValueError:\n",
    "                continue\n",
    "    return coords"
   ]
  },
  {
   "cell_type": "code",
   "execution_count": 4,
   "id": "3464a3a6",
   "metadata": {},
   "outputs": [],
   "source": [
    "ORIGINAL = \"256.txt\"\n",
    "MODIFIED = \"256_unroll.txt\"\n",
    "\n",
    "ground_truth = read_coords(ORIGINAL)\n",
    "test_data = read_coords(MODIFIED)\n",
    "\n",
    "nsteps = len(ground_truth)\n",
    "\n",
    "errors = [[] for _ in range(len(ground_truth[0]))]\n",
    "for i in range(nsteps):\n",
    "    for j in range(len(ground_truth[i])):\n",
    "        gx, gy = ground_truth[i][j]\n",
    "        tx, ty = test_data[i][j]\n",
    "        error = math.sqrt((gx - tx)**2 + (gy - ty)**2)\n",
    "        errors[j].append(error)"
   ]
  },
  {
   "cell_type": "code",
   "execution_count": 5,
   "id": "0bc6616e",
   "metadata": {},
   "outputs": [
    {
     "name": "stderr",
     "output_type": "stream",
     "text": [
      "/tmp/ipykernel_11656/2594102113.py:4: UserWarning: Data has no positive values, and therefore cannot be log-scaled.\n",
      "  plt.yscale(\"log\")\n"
     ]
    },
    {
     "data": {
      "image/png": "[encoded data removed]",
      "text/plain": [
       "<Figure size 640x480 with 1 Axes>"
      ]
     },
     "metadata": {},
     "output_type": "display_data"
    }
   ],
   "source": [
    "plt.plot(errors)\n",
    "plt.xlabel(\"Step\")\n",
    "plt.ylabel(\"Error\")\n",
    "plt.yscale(\"log\")\n",
    "plt.xlim(0, len(errors))\n",
    "plt.show()"
   ]
  },
  {
   "cell_type": "markdown",
   "id": "c77d4885",
   "metadata": {},
   "source": []
  }
 ],
 "metadata": {
  "kernelspec": {
   "display_name": "Python 3",
   "language": "python",
   "name": "python3"
  },
  "language_info": {
   "codemirror_mode": {
    "name": "ipython",
    "version": 3
   },
   "file_extension": ".py",
   "mimetype": "text/x-python",
   "name": "python",
   "nbconvert_exporter": "python",
   "pygments_lexer": "ipython3",
   "version": "3.10.12"
  }
 },
 "nbformat": 4,
 "nbformat_minor": 5
}
